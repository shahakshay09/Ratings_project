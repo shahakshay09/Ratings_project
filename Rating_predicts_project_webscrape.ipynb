{
 "cells": [
  {
   "cell_type": "code",
   "execution_count": 3,
   "id": "59d497ac",
   "metadata": {},
   "outputs": [],
   "source": [
    "import pandas as pd\n",
    "import selenium\n",
    "from selenium import webdriver\n",
    "import time\n",
    "from bs4 import BeautifulSoup\n",
    "from selenium.common.exceptions import NoSuchElementException\n",
    "from selenium.webdriver.support.ui import WebDriverWait\n",
    "from selenium.webdriver.support import expected_conditions as EC\n",
    "from selenium.webdriver.common.by import By\n",
    "import warnings\n",
    "warnings.filterwarnings('ignore')"
   ]
  },
  {
   "cell_type": "code",
   "execution_count": 2,
   "id": "d2ed510f",
   "metadata": {},
   "outputs": [
    {
     "name": "stderr",
     "output_type": "stream",
     "text": [
      "<ipython-input-2-bdd2ca9e2df5>:1: DeprecationWarning: executable_path has been deprecated, please pass in a Service object\n",
      "  driver = webdriver.Chrome(r\"C:\\Users\\shaha\\Downloads\\chromedriver_win32 (2)/chromedriver.exe\")\n"
     ]
    }
   ],
   "source": [
    "driver = webdriver.Chrome(r\"C:\\Users\\shaha\\Downloads\\chromedriver_win32 (2)/chromedriver.exe\")\n",
    "driver.get(\"https://www.flipkart.com/hp-pavilion-gaming-ryzen-5-quad-core-3550h-8-gb-1-tb-hdd-windows-10-home-4-gb-graphics-nvidia-geforce-gtx-1650-15-ec0101ax-laptop/product-reviews/itma1af6bf593dc8?pid=COMFSFNVDXG74QXR&lid=LSTCOMFSFNVDXG74QXRY8FRH2&marketplace=FLIPKART\")\n",
    "time.sleep(2)"
   ]
  },
  {
   "cell_type": "code",
   "execution_count": 4,
   "id": "c417a735",
   "metadata": {},
   "outputs": [],
   "source": [
    "driver.find_element_by_xpath(\"//nav[@class='yFHi8N']/a[2]\").click() # click on 2 page\n",
    "time.sleep(4)  # sleep code for 8 second\n",
    "\n",
    "# again click on 1 page to get url with page=1 at the end, which is extract below\n",
    "driver.find_element_by_xpath(\"//nav[@class='yFHi8N']/a[1]\").click()"
   ]
  },
  {
   "cell_type": "code",
   "execution_count": 5,
   "id": "879e16b0",
   "metadata": {},
   "outputs": [
    {
     "data": {
      "text/plain": [
       "'https://www.flipkart.com/hp-pavilion-gaming-ryzen-5-quad-core-3550h-8-gb-1-tb-hdd-windows-10-home-4-gb-graphics-nvidia-geforce-gtx-1650-15-ec0101ax-laptop/product-reviews/itma1af6bf593dc8?pid=COMFSFNVDXG74QXR&lid=LSTCOMFSFNVDXG74QXRY8FRH2&marketplace=FLIPKART&page=1'"
      ]
     },
     "execution_count": 5,
     "metadata": {},
     "output_type": "execute_result"
    }
   ],
   "source": [
    "driver.current_url"
   ]
  },
  {
   "cell_type": "code",
   "execution_count": 6,
   "id": "5e5c2c92",
   "metadata": {},
   "outputs": [],
   "source": [
    "# create empty list\n",
    "ratings = []\n",
    "reviews = []"
   ]
  },
  {
   "cell_type": "code",
   "execution_count": 7,
   "id": "6285e1b0",
   "metadata": {},
   "outputs": [],
   "source": [
    "for page in range(1, 151, 1):\n",
    "    # below url take from the above code result\n",
    "    page_url = \"https://www.flipkart.com/hp-pavilion-gaming-ryzen-5-quad-core-3550h-8-gb-1-tb-hdd-windows-10-home-4-gb-graphics-nvidia-geforce-gtx-1650-15-ec0101ax-laptop/product-reviews/itma1af6bf593dc8?pid=COMFSFNVDXG74QXR&lid=LSTCOMFSFNVDXG74QXRY8FRH2&marketplace=FLIPKART&page=\" + str(page)\n",
    "    driver.get(page_url)\n",
    "    rating_ = driver.find_elements_by_xpath(\"//div[@class='col _2wzgFH K0kLPL']/div[1]/div[1]\")\n",
    "    review_ = driver.find_elements_by_xpath(\"//*[@id='container']/div/div[3]/div/div[1]/div[2]/div/div/div/div/div[2]/div/div/div\")\n",
    "                                             \n",
    "    for i in rating_:\n",
    "        ratings.append(i.text)\n",
    "    for k in review_:\n",
    "        reviews.append(k.text)"
   ]
  },
  {
   "cell_type": "code",
   "execution_count": 8,
   "id": "9e48767a",
   "metadata": {},
   "outputs": [
    {
     "name": "stdout",
     "output_type": "stream",
     "text": [
      "1500\n",
      "1500\n"
     ]
    }
   ],
   "source": [
    "print(len(ratings))\n",
    "print(len(reviews))"
   ]
  },
  {
   "cell_type": "code",
   "execution_count": 9,
   "id": "3a938df7",
   "metadata": {},
   "outputs": [],
   "source": [
    "#driver.close()"
   ]
  },
  {
   "cell_type": "code",
   "execution_count": 10,
   "id": "8bae10a7",
   "metadata": {},
   "outputs": [
    {
     "data": {
      "text/html": [
       "<div>\n",
       "<style scoped>\n",
       "    .dataframe tbody tr th:only-of-type {\n",
       "        vertical-align: middle;\n",
       "    }\n",
       "\n",
       "    .dataframe tbody tr th {\n",
       "        vertical-align: top;\n",
       "    }\n",
       "\n",
       "    .dataframe thead th {\n",
       "        text-align: right;\n",
       "    }\n",
       "</style>\n",
       "<table border=\"1\" class=\"dataframe\">\n",
       "  <thead>\n",
       "    <tr style=\"text-align: right;\">\n",
       "      <th></th>\n",
       "      <th>Ratings</th>\n",
       "      <th>Review</th>\n",
       "    </tr>\n",
       "  </thead>\n",
       "  <tbody>\n",
       "    <tr>\n",
       "      <th>0</th>\n",
       "      <td>5</td>\n",
       "      <td>This is the best laptop in this range.I reciev...</td>\n",
       "    </tr>\n",
       "    <tr>\n",
       "      <th>1</th>\n",
       "      <td>5</td>\n",
       "      <td>Good product as used of now.... Everything is ...</td>\n",
       "    </tr>\n",
       "    <tr>\n",
       "      <th>2</th>\n",
       "      <td>5</td>\n",
       "      <td>AWESOME LAPTOP. It supports many high spec gam...</td>\n",
       "    </tr>\n",
       "    <tr>\n",
       "      <th>3</th>\n",
       "      <td>4</td>\n",
       "      <td>For the peoples who R going to buy R they buye...</td>\n",
       "    </tr>\n",
       "    <tr>\n",
       "      <th>4</th>\n",
       "      <td>5</td>\n",
       "      <td>It's good gameing laptop in this price\\nDispla...</td>\n",
       "    </tr>\n",
       "    <tr>\n",
       "      <th>...</th>\n",
       "      <td>...</td>\n",
       "      <td>...</td>\n",
       "    </tr>\n",
       "    <tr>\n",
       "      <th>1495</th>\n",
       "      <td>5</td>\n",
       "      <td>Best Product Truly</td>\n",
       "    </tr>\n",
       "    <tr>\n",
       "      <th>1496</th>\n",
       "      <td>4</td>\n",
       "      <td>Good product for basic level gaming, designing...</td>\n",
       "    </tr>\n",
       "    <tr>\n",
       "      <th>1497</th>\n",
       "      <td>3</td>\n",
       "      <td>Don't buy ryzen take intel</td>\n",
       "    </tr>\n",
       "    <tr>\n",
       "      <th>1498</th>\n",
       "      <td>5</td>\n",
       "      <td>Just amazing</td>\n",
       "    </tr>\n",
       "    <tr>\n",
       "      <th>1499</th>\n",
       "      <td>5</td>\n",
       "      <td>The best</td>\n",
       "    </tr>\n",
       "  </tbody>\n",
       "</table>\n",
       "<p>1500 rows × 2 columns</p>\n",
       "</div>"
      ],
      "text/plain": [
       "     Ratings                                             Review\n",
       "0          5  This is the best laptop in this range.I reciev...\n",
       "1          5  Good product as used of now.... Everything is ...\n",
       "2          5  AWESOME LAPTOP. It supports many high spec gam...\n",
       "3          4  For the peoples who R going to buy R they buye...\n",
       "4          5  It's good gameing laptop in this price\\nDispla...\n",
       "...      ...                                                ...\n",
       "1495       5                                 Best Product Truly\n",
       "1496       4  Good product for basic level gaming, designing...\n",
       "1497       3                         Don't buy ryzen take intel\n",
       "1498       5                                       Just amazing\n",
       "1499       5                                           The best\n",
       "\n",
       "[1500 rows x 2 columns]"
      ]
     },
     "execution_count": 10,
     "metadata": {},
     "output_type": "execute_result"
    }
   ],
   "source": [
    "# make dataframe\n",
    "df1 = pd.DataFrame({})\n",
    "df1['Ratings'] = ratings\n",
    "df1['Review'] = reviews\n",
    "df1"
   ]
  },
  {
   "cell_type": "code",
   "execution_count": 12,
   "id": "05e70d41",
   "metadata": {},
   "outputs": [],
   "source": [
    "driver = webdriver.Chrome(r\"C:\\Users\\shaha\\Downloads\\chromedriver_win32 (2)/chromedriver.exe\")\n",
    "driver.get(\"https://www.flipkart.com/samsung-galaxy-f22-denim-blue-64-gb/product-reviews/itmce0a6baf0d54d?pid=MOBG43UGBTGGB99V&lid=LSTMOBG43UGBTGGB99VLZACSD&marketplace=FLIPKART\")\n",
    "time.sleep(2)"
   ]
  },
  {
   "cell_type": "code",
   "execution_count": 13,
   "id": "17ace450",
   "metadata": {},
   "outputs": [],
   "source": [
    "driver.find_element_by_xpath(\"//nav[@class='yFHi8N']/a[2]\").click() # click on 2 page\n",
    "time.sleep(4)  # sleep code for 8 second\n",
    "\n",
    "# again click on 1 page to get url with page=1 at the end, which is extract below\n",
    "driver.find_element_by_xpath(\"//nav[@class='yFHi8N']/a[1]\").click()"
   ]
  },
  {
   "cell_type": "code",
   "execution_count": 14,
   "id": "073c104f",
   "metadata": {},
   "outputs": [
    {
     "data": {
      "text/plain": [
       "'https://www.flipkart.com/samsung-galaxy-f22-denim-blue-64-gb/product-reviews/itmce0a6baf0d54d?pid=MOBG43UGBTGGB99V&lid=LSTMOBG43UGBTGGB99VLZACSD&marketplace=FLIPKART&page=1'"
      ]
     },
     "execution_count": 14,
     "metadata": {},
     "output_type": "execute_result"
    }
   ],
   "source": [
    "driver.current_url"
   ]
  },
  {
   "cell_type": "code",
   "execution_count": 15,
   "id": "f846e58b",
   "metadata": {},
   "outputs": [],
   "source": [
    "# create empty list\n",
    "ratings = []\n",
    "reviews = []"
   ]
  },
  {
   "cell_type": "code",
   "execution_count": 16,
   "id": "862f3867",
   "metadata": {},
   "outputs": [],
   "source": [
    "for page in range(1, 151, 1):\n",
    "    # below url take from the above code result\n",
    "    page_url = \"https://www.flipkart.com/samsung-galaxy-f22-denim-blue-64-gb/product-reviews/itmce0a6baf0d54d?pid=MOBG43UGBTGGB99V&lid=LSTMOBG43UGBTGGB99VLZACSD&marketplace=FLIPKART&page=1\" + str(page)\n",
    "    driver.get(page_url)\n",
    "    rating_ = driver.find_elements_by_xpath(\"//div[@class='col _2wzgFH K0kLPL']/div[1]/div[1]\")\n",
    "    review_ = driver.find_elements_by_xpath(\"//*[@id='container']/div/div[3]/div/div[1]/div[2]/div/div/div/div/div[2]/div/div/div\")\n",
    "                                             \n",
    "    for i in rating_:\n",
    "        ratings.append(i.text)\n",
    "    for k in review_:\n",
    "        reviews.append(k.text)"
   ]
  },
  {
   "cell_type": "code",
   "execution_count": 17,
   "id": "f90f36bf",
   "metadata": {},
   "outputs": [
    {
     "name": "stdout",
     "output_type": "stream",
     "text": [
      "990\n",
      "990\n"
     ]
    }
   ],
   "source": [
    "print(len(ratings))\n",
    "print(len(reviews))"
   ]
  },
  {
   "cell_type": "code",
   "execution_count": 18,
   "id": "c871059b",
   "metadata": {},
   "outputs": [],
   "source": [
    "driver.close()"
   ]
  },
  {
   "cell_type": "code",
   "execution_count": 19,
   "id": "bad2b2a9",
   "metadata": {},
   "outputs": [
    {
     "data": {
      "text/html": [
       "<div>\n",
       "<style scoped>\n",
       "    .dataframe tbody tr th:only-of-type {\n",
       "        vertical-align: middle;\n",
       "    }\n",
       "\n",
       "    .dataframe tbody tr th {\n",
       "        vertical-align: top;\n",
       "    }\n",
       "\n",
       "    .dataframe thead th {\n",
       "        text-align: right;\n",
       "    }\n",
       "</style>\n",
       "<table border=\"1\" class=\"dataframe\">\n",
       "  <thead>\n",
       "    <tr style=\"text-align: right;\">\n",
       "      <th></th>\n",
       "      <th>Ratings</th>\n",
       "      <th>Review</th>\n",
       "    </tr>\n",
       "  </thead>\n",
       "  <tbody>\n",
       "    <tr>\n",
       "      <th>0</th>\n",
       "      <td>5</td>\n",
       "      <td>Overall is a good phone and very good camera p...</td>\n",
       "    </tr>\n",
       "    <tr>\n",
       "      <th>1</th>\n",
       "      <td>5</td>\n",
       "      <td>Worthy</td>\n",
       "    </tr>\n",
       "    <tr>\n",
       "      <th>2</th>\n",
       "      <td>5</td>\n",
       "      <td>Excellent phone</td>\n",
       "    </tr>\n",
       "    <tr>\n",
       "      <th>3</th>\n",
       "      <td>2</td>\n",
       "      <td>its not at good for gaming games like PUBG and...</td>\n",
       "    </tr>\n",
       "    <tr>\n",
       "      <th>4</th>\n",
       "      <td>5</td>\n",
       "      <td>Best made for India phone , Better than all Ch...</td>\n",
       "    </tr>\n",
       "    <tr>\n",
       "      <th>...</th>\n",
       "      <td>...</td>\n",
       "      <td>...</td>\n",
       "    </tr>\n",
       "    <tr>\n",
       "      <th>985</th>\n",
       "      <td>4</td>\n",
       "      <td>Good</td>\n",
       "    </tr>\n",
       "    <tr>\n",
       "      <th>986</th>\n",
       "      <td>4</td>\n",
       "      <td>Overall performance is very good battery backu...</td>\n",
       "    </tr>\n",
       "    <tr>\n",
       "      <th>987</th>\n",
       "      <td>5</td>\n",
       "      <td>Camera ,battery and Display was Awesome\\nGood ...</td>\n",
       "    </tr>\n",
       "    <tr>\n",
       "      <th>988</th>\n",
       "      <td>5</td>\n",
       "      <td>LOVE IT 😘😘</td>\n",
       "    </tr>\n",
       "    <tr>\n",
       "      <th>989</th>\n",
       "      <td>5</td>\n",
       "      <td>Excellent</td>\n",
       "    </tr>\n",
       "  </tbody>\n",
       "</table>\n",
       "<p>990 rows × 2 columns</p>\n",
       "</div>"
      ],
      "text/plain": [
       "    Ratings                                             Review\n",
       "0         5  Overall is a good phone and very good camera p...\n",
       "1         5                                             Worthy\n",
       "2         5                                    Excellent phone\n",
       "3         2  its not at good for gaming games like PUBG and...\n",
       "4         5  Best made for India phone , Better than all Ch...\n",
       "..      ...                                                ...\n",
       "985       4                                               Good\n",
       "986       4  Overall performance is very good battery backu...\n",
       "987       5  Camera ,battery and Display was Awesome\\nGood ...\n",
       "988       5                                         LOVE IT 😘😘\n",
       "989       5                                          Excellent\n",
       "\n",
       "[990 rows x 2 columns]"
      ]
     },
     "execution_count": 19,
     "metadata": {},
     "output_type": "execute_result"
    }
   ],
   "source": [
    "# make dataframe\n",
    "df2 = pd.DataFrame({})\n",
    "df2['Ratings'] = ratings\n",
    "df2['Review'] = reviews\n",
    "df2"
   ]
  },
  {
   "cell_type": "code",
   "execution_count": 20,
   "id": "ccd89d11",
   "metadata": {},
   "outputs": [],
   "source": [
    "driver = webdriver.Chrome(r\"C:\\Users\\shaha\\Downloads\\chromedriver_win32 (2)/chromedriver.exe\")\n",
    "driver.get(\"https://www.flipkart.com/realme-narzo-20-glory-silver-64-gb/product-reviews/itm4ac58d879006d?pid=MOBFVEATBBRGJBKH&lid=LSTMOBFVEATBBRGJBKH4OKPVI&marketplace=FLIPKART\")\n",
    "time.sleep(2)"
   ]
  },
  {
   "cell_type": "code",
   "execution_count": 22,
   "id": "d2ff6145",
   "metadata": {},
   "outputs": [],
   "source": [
    "# click on negative filter first\n",
    "driver.find_element_by_xpath(\"//*[@id='container']/div/div[3]/div/div/div[2]/div[1]/div[1]/div[2]/div/div/div/div/select/option[4]\").click()\n",
    "time.sleep(4)"
   ]
  },
  {
   "cell_type": "code",
   "execution_count": 23,
   "id": "c6afbbf6",
   "metadata": {},
   "outputs": [],
   "source": [
    "# click on page no.- 2\n",
    "driver.find_element_by_xpath(\"//*[@id='container']/div/div[3]/div/div/div[2]/div[13]/div/div/nav/a[2]\").click() "
   ]
  },
  {
   "cell_type": "code",
   "execution_count": 24,
   "id": "d5822da8",
   "metadata": {},
   "outputs": [
    {
     "data": {
      "text/plain": [
       "'https://www.flipkart.com/realme-narzo-20-glory-silver-64-gb/product-reviews/itm4ac58d879006d?pid=MOBFVEATBBRGJBKH&lid=LSTMOBFVEATBBRGJBKH4OKPVI&aid=overall&certifiedBuyer=false&sortOrder=NEGATIVE_FIRST'"
      ]
     },
     "execution_count": 24,
     "metadata": {},
     "output_type": "execute_result"
    }
   ],
   "source": [
    "# extract page no.-2 url for apply loop of all pages\n",
    "driver.current_url"
   ]
  },
  {
   "cell_type": "code",
   "execution_count": 25,
   "id": "2266cc13",
   "metadata": {},
   "outputs": [],
   "source": [
    "# create empty list\n",
    "ratings = []\n",
    "reviews = []"
   ]
  },
  {
   "cell_type": "code",
   "execution_count": 26,
   "id": "2caabdd5",
   "metadata": {},
   "outputs": [],
   "source": [
    "for page in range(1, 451, 1):\n",
    "    # below url take from the above code result\n",
    "    page_url = \"https://www.flipkart.com/realme-narzo-20-glory-silver-64-gb/product-reviews/itm4ac58d879006d?pid=MOBFVEATBBRGJBKH&lid=LSTMOBFVEATBBRGJBKH4OKPVI&aid=overall&certifiedBuyer=false&sortOrder=NEGATIVE_FIRST&page=\" + str(page)\n",
    "    driver.get(page_url)\n",
    "    rating_ = driver.find_elements_by_xpath(\"//div[@class='col _2wzgFH K0kLPL']/div[1]/div[1]\")                                  \n",
    "    review_ = driver.find_elements_by_xpath(\"//*[@id='container']/div/div[3]/div/div[1]/div[2]/div/div/div/div/div[2]/div/div/div\")\n",
    "                            \n",
    "    for i in rating_:\n",
    "        ratings.append(i.text)\n",
    "    for k in review_:\n",
    "        reviews.append(k.text)"
   ]
  },
  {
   "cell_type": "code",
   "execution_count": 27,
   "id": "f74b2e61",
   "metadata": {},
   "outputs": [
    {
     "name": "stdout",
     "output_type": "stream",
     "text": [
      "4430\n",
      "4430\n"
     ]
    }
   ],
   "source": [
    "print(len(ratings))\n",
    "print(len(reviews))"
   ]
  },
  {
   "cell_type": "code",
   "execution_count": 28,
   "id": "ce6db415",
   "metadata": {},
   "outputs": [
    {
     "data": {
      "text/html": [
       "<div>\n",
       "<style scoped>\n",
       "    .dataframe tbody tr th:only-of-type {\n",
       "        vertical-align: middle;\n",
       "    }\n",
       "\n",
       "    .dataframe tbody tr th {\n",
       "        vertical-align: top;\n",
       "    }\n",
       "\n",
       "    .dataframe thead th {\n",
       "        text-align: right;\n",
       "    }\n",
       "</style>\n",
       "<table border=\"1\" class=\"dataframe\">\n",
       "  <thead>\n",
       "    <tr style=\"text-align: right;\">\n",
       "      <th></th>\n",
       "      <th>Ratings</th>\n",
       "      <th>Review</th>\n",
       "    </tr>\n",
       "  </thead>\n",
       "  <tbody>\n",
       "    <tr>\n",
       "      <th>0</th>\n",
       "      <td>1</td>\n",
       "      <td>The wrost product I ever used. because\\nno aut...</td>\n",
       "    </tr>\n",
       "    <tr>\n",
       "      <th>1</th>\n",
       "      <td>1</td>\n",
       "      <td>Good</td>\n",
       "    </tr>\n",
       "    <tr>\n",
       "      <th>2</th>\n",
       "      <td>1</td>\n",
       "      <td>Don't buy mobiles in Flipkart. I have received...</td>\n",
       "    </tr>\n",
       "    <tr>\n",
       "      <th>3</th>\n",
       "      <td>1</td>\n",
       "      <td>waste of money the sound quality to bad also w...</td>\n",
       "    </tr>\n",
       "    <tr>\n",
       "      <th>4</th>\n",
       "      <td>1</td>\n",
       "      <td>Display quality is bad.\\nSignal issue. Issue i...</td>\n",
       "    </tr>\n",
       "    <tr>\n",
       "      <th>...</th>\n",
       "      <td>...</td>\n",
       "      <td>...</td>\n",
       "    </tr>\n",
       "    <tr>\n",
       "      <th>4425</th>\n",
       "      <td>3</td>\n",
       "      <td>After many update camera is so bad\\n.,.</td>\n",
       "    </tr>\n",
       "    <tr>\n",
       "      <th>4426</th>\n",
       "      <td>3</td>\n",
       "      <td>Nice</td>\n",
       "    </tr>\n",
       "    <tr>\n",
       "      <th>4427</th>\n",
       "      <td>3</td>\n",
       "      <td>good</td>\n",
       "    </tr>\n",
       "    <tr>\n",
       "      <th>4428</th>\n",
       "      <td>3</td>\n",
       "      <td>New mobile battery packup is good but day by d...</td>\n",
       "    </tr>\n",
       "    <tr>\n",
       "      <th>4429</th>\n",
       "      <td>3</td>\n",
       "      <td>After using it for 4 months it started hanging...</td>\n",
       "    </tr>\n",
       "  </tbody>\n",
       "</table>\n",
       "<p>4430 rows × 2 columns</p>\n",
       "</div>"
      ],
      "text/plain": [
       "     Ratings                                             Review\n",
       "0          1  The wrost product I ever used. because\\nno aut...\n",
       "1          1                                               Good\n",
       "2          1  Don't buy mobiles in Flipkart. I have received...\n",
       "3          1  waste of money the sound quality to bad also w...\n",
       "4          1  Display quality is bad.\\nSignal issue. Issue i...\n",
       "...      ...                                                ...\n",
       "4425       3            After many update camera is so bad\\n.,.\n",
       "4426       3                                               Nice\n",
       "4427       3                                               good\n",
       "4428       3  New mobile battery packup is good but day by d...\n",
       "4429       3  After using it for 4 months it started hanging...\n",
       "\n",
       "[4430 rows x 2 columns]"
      ]
     },
     "execution_count": 28,
     "metadata": {},
     "output_type": "execute_result"
    }
   ],
   "source": [
    "# make dataframe\n",
    "df3 = pd.DataFrame({})\n",
    "df3['Ratings'] = ratings\n",
    "df3['Review'] = reviews\n",
    "df3"
   ]
  },
  {
   "cell_type": "code",
   "execution_count": 29,
   "id": "1cb0c007",
   "metadata": {},
   "outputs": [],
   "source": [
    "driver.close()"
   ]
  },
  {
   "cell_type": "code",
   "execution_count": 38,
   "id": "a65bcc7a",
   "metadata": {},
   "outputs": [],
   "source": [
    "driver = webdriver.Chrome(r\"C:\\Users\\shaha\\Downloads\\chromedriver_win32 (2)/chromedriver.exe\")\n",
    "driver.get(\"https://www.myntra.com/reviews/2004043\")\n",
    "time.sleep(2)"
   ]
  },
  {
   "cell_type": "code",
   "execution_count": 39,
   "id": "e22f0347",
   "metadata": {},
   "outputs": [],
   "source": [
    "# scroll down page till last\n",
    "\n",
    "SCROLL_PAUSE_TIME = 1\n",
    "\n",
    "# Get scroll height \n",
    "last_height = driver.execute_script(\"return document.body.scrollHeight\")"
   ]
  },
  {
   "cell_type": "code",
   "execution_count": 40,
   "id": "06e2df3a",
   "metadata": {},
   "outputs": [],
   "source": [
    "while True: \n",
    "    # Scroll down to bottom\n",
    "    driver.execute_script(\"window.scrollTo(0, document.body.scrollHeight);\")\n",
    "\n",
    "    # Wait to load page \n",
    "\n",
    "    time.sleep(SCROLL_PAUSE_TIME)\n",
    "\n",
    "    # Calculate new scroll height and compare with last scroll height\n",
    "\n",
    "    new_height = driver.execute_script(\"return document.body.scrollHeight\")\n",
    "\n",
    "    if new_height == last_height:\n",
    "\n",
    "        break\n",
    "\n",
    "    last_height = new_height"
   ]
  },
  {
   "cell_type": "code",
   "execution_count": 41,
   "id": "9b4e22e1",
   "metadata": {},
   "outputs": [],
   "source": [
    "# create empty list\n",
    "ratings = []\n",
    "reviews = []"
   ]
  },
  {
   "cell_type": "code",
   "execution_count": 42,
   "id": "713c2be8",
   "metadata": {},
   "outputs": [],
   "source": [
    "rating_ = driver.find_elements_by_xpath(\"//*[@id='detailedReviewsContainer']/div/div[1]/div[1]/span\")    \n",
    "review_ = driver.find_elements_by_xpath(\"//*[@id='detailedReviewsContainer']/div/div[1]/div[2]\")\n",
    "\n",
    "for i in rating_:\n",
    "    ratings.append(i.text)\n",
    "for k in review_:\n",
    "    reviews.append(k.text)"
   ]
  },
  {
   "cell_type": "code",
   "execution_count": 43,
   "id": "3cae8403",
   "metadata": {},
   "outputs": [
    {
     "name": "stdout",
     "output_type": "stream",
     "text": [
      "384\n",
      "384\n"
     ]
    }
   ],
   "source": [
    "print(len(ratings))\n",
    "print(len(reviews))"
   ]
  },
  {
   "cell_type": "code",
   "execution_count": 44,
   "id": "e7d18764",
   "metadata": {},
   "outputs": [
    {
     "data": {
      "text/html": [
       "<div>\n",
       "<style scoped>\n",
       "    .dataframe tbody tr th:only-of-type {\n",
       "        vertical-align: middle;\n",
       "    }\n",
       "\n",
       "    .dataframe tbody tr th {\n",
       "        vertical-align: top;\n",
       "    }\n",
       "\n",
       "    .dataframe thead th {\n",
       "        text-align: right;\n",
       "    }\n",
       "</style>\n",
       "<table border=\"1\" class=\"dataframe\">\n",
       "  <thead>\n",
       "    <tr style=\"text-align: right;\">\n",
       "      <th></th>\n",
       "      <th>Ratings</th>\n",
       "      <th>Review</th>\n",
       "    </tr>\n",
       "  </thead>\n",
       "  <tbody>\n",
       "    <tr>\n",
       "      <th>0</th>\n",
       "      <td>4</td>\n",
       "      <td>Very good sound quality with a cosy fit in the...</td>\n",
       "    </tr>\n",
       "    <tr>\n",
       "      <th>1</th>\n",
       "      <td>5</td>\n",
       "      <td>Really awesome sounds quality 👌...and bass lov...</td>\n",
       "    </tr>\n",
       "    <tr>\n",
       "      <th>2</th>\n",
       "      <td>5</td>\n",
       "      <td>First of for thnku myntra 👍this earphone is be...</td>\n",
       "    </tr>\n",
       "    <tr>\n",
       "      <th>3</th>\n",
       "      <td>3</td>\n",
       "      <td>I don't see so much of changed from an average...</td>\n",
       "    </tr>\n",
       "    <tr>\n",
       "      <th>4</th>\n",
       "      <td>4</td>\n",
       "      <td>As a show of pic on myntra display same as phy...</td>\n",
       "    </tr>\n",
       "    <tr>\n",
       "      <th>...</th>\n",
       "      <td>...</td>\n",
       "      <td>...</td>\n",
       "    </tr>\n",
       "    <tr>\n",
       "      <th>379</th>\n",
       "      <td>3</td>\n",
       "      <td>Not that revealing and okay with respect to cost</td>\n",
       "    </tr>\n",
       "    <tr>\n",
       "      <th>380</th>\n",
       "      <td>5</td>\n",
       "      <td>Best ever nice bass and sound quality is wow👍👌</td>\n",
       "    </tr>\n",
       "    <tr>\n",
       "      <th>381</th>\n",
       "      <td>5</td>\n",
       "      <td>Good product, value for money, good sound qual...</td>\n",
       "    </tr>\n",
       "    <tr>\n",
       "      <th>382</th>\n",
       "      <td>5</td>\n",
       "      <td>What a product man mindbobling . I like it ver...</td>\n",
       "    </tr>\n",
       "    <tr>\n",
       "      <th>383</th>\n",
       "      <td>5</td>\n",
       "      <td>It's a good product but not touched my expecta...</td>\n",
       "    </tr>\n",
       "  </tbody>\n",
       "</table>\n",
       "<p>384 rows × 2 columns</p>\n",
       "</div>"
      ],
      "text/plain": [
       "    Ratings                                             Review\n",
       "0         4  Very good sound quality with a cosy fit in the...\n",
       "1         5  Really awesome sounds quality 👌...and bass lov...\n",
       "2         5  First of for thnku myntra 👍this earphone is be...\n",
       "3         3  I don't see so much of changed from an average...\n",
       "4         4  As a show of pic on myntra display same as phy...\n",
       "..      ...                                                ...\n",
       "379       3   Not that revealing and okay with respect to cost\n",
       "380       5     Best ever nice bass and sound quality is wow👍👌\n",
       "381       5  Good product, value for money, good sound qual...\n",
       "382       5  What a product man mindbobling . I like it ver...\n",
       "383       5  It's a good product but not touched my expecta...\n",
       "\n",
       "[384 rows x 2 columns]"
      ]
     },
     "execution_count": 44,
     "metadata": {},
     "output_type": "execute_result"
    }
   ],
   "source": [
    "# make dataframe\n",
    "df4 = pd.DataFrame({})\n",
    "df4['Ratings'] = ratings\n",
    "df4['Review'] = reviews\n",
    "df4"
   ]
  },
  {
   "cell_type": "code",
   "execution_count": 45,
   "id": "5b8b4497",
   "metadata": {},
   "outputs": [],
   "source": [
    "driver.close()"
   ]
  },
  {
   "cell_type": "code",
   "execution_count": 46,
   "id": "c10f97d4",
   "metadata": {},
   "outputs": [],
   "source": [
    "driver = webdriver.Chrome(r\"C:\\Users\\shaha\\Downloads\\chromedriver_win32 (2)/chromedriver.exe\")\n",
    "driver.get(\"https://www.myntra.com/reviews/9928205\")\n",
    "time.sleep(2)"
   ]
  },
  {
   "cell_type": "code",
   "execution_count": 47,
   "id": "85583c1b",
   "metadata": {},
   "outputs": [],
   "source": [
    "# scroll down page till last\n",
    "\n",
    "SCROLL_PAUSE_TIME = 1\n",
    "\n",
    "# Get scroll height \n",
    "last_height = driver.execute_script(\"return document.body.scrollHeight\")"
   ]
  },
  {
   "cell_type": "code",
   "execution_count": 48,
   "id": "49b24d6b",
   "metadata": {},
   "outputs": [],
   "source": [
    "while True: \n",
    "    # Scroll down to bottom\n",
    "    driver.execute_script(\"window.scrollTo(0, document.body.scrollHeight);\")\n",
    "\n",
    "    # Wait to load page \n",
    "\n",
    "    time.sleep(SCROLL_PAUSE_TIME)\n",
    "\n",
    "    # Calculate new scroll height and compare with last scroll height\n",
    "\n",
    "    new_height = driver.execute_script(\"return document.body.scrollHeight\")\n",
    "\n",
    "    if new_height == last_height:\n",
    "\n",
    "        break\n",
    "\n",
    "    last_height = new_height"
   ]
  },
  {
   "cell_type": "code",
   "execution_count": 49,
   "id": "97361788",
   "metadata": {},
   "outputs": [],
   "source": [
    "# create empty list\n",
    "ratings = []\n",
    "reviews = []"
   ]
  },
  {
   "cell_type": "code",
   "execution_count": 50,
   "id": "ea9f926f",
   "metadata": {},
   "outputs": [],
   "source": [
    "rating_ = driver.find_elements_by_xpath(\"//*[@id='detailedReviewsContainer']/div/div[1]/div[1]/span\")    \n",
    "review_ = driver.find_elements_by_xpath(\"//*[@id='detailedReviewsContainer']/div/div[1]/div[2]\")\n",
    "\n",
    "for i in rating_:\n",
    "    ratings.append(i.text)\n",
    "for k in review_:\n",
    "    reviews.append(k.text)"
   ]
  },
  {
   "cell_type": "code",
   "execution_count": 51,
   "id": "288bce14",
   "metadata": {},
   "outputs": [
    {
     "name": "stdout",
     "output_type": "stream",
     "text": [
      "2576\n",
      "2576\n"
     ]
    }
   ],
   "source": [
    "print(len(ratings))\n",
    "print(len(reviews))"
   ]
  },
  {
   "cell_type": "code",
   "execution_count": 52,
   "id": "61fb3bee",
   "metadata": {},
   "outputs": [
    {
     "data": {
      "text/html": [
       "<div>\n",
       "<style scoped>\n",
       "    .dataframe tbody tr th:only-of-type {\n",
       "        vertical-align: middle;\n",
       "    }\n",
       "\n",
       "    .dataframe tbody tr th {\n",
       "        vertical-align: top;\n",
       "    }\n",
       "\n",
       "    .dataframe thead th {\n",
       "        text-align: right;\n",
       "    }\n",
       "</style>\n",
       "<table border=\"1\" class=\"dataframe\">\n",
       "  <thead>\n",
       "    <tr style=\"text-align: right;\">\n",
       "      <th></th>\n",
       "      <th>Ratings</th>\n",
       "      <th>Review</th>\n",
       "    </tr>\n",
       "  </thead>\n",
       "  <tbody>\n",
       "    <tr>\n",
       "      <th>0</th>\n",
       "      <td>4</td>\n",
       "      <td>The product is awesome, controls are good and ...</td>\n",
       "    </tr>\n",
       "    <tr>\n",
       "      <th>1</th>\n",
       "      <td>5</td>\n",
       "      <td>Perfectly fit in your ear. I've never found so...</td>\n",
       "    </tr>\n",
       "    <tr>\n",
       "      <th>2</th>\n",
       "      <td>4</td>\n",
       "      <td>(Please note this review is based on the prici...</td>\n",
       "    </tr>\n",
       "    <tr>\n",
       "      <th>3</th>\n",
       "      <td>5</td>\n",
       "      <td>Great sound quality and good bass. It is notic...</td>\n",
       "    </tr>\n",
       "    <tr>\n",
       "      <th>4</th>\n",
       "      <td>5</td>\n",
       "      <td>I have purchased Bluetooth Wireless Earphones ...</td>\n",
       "    </tr>\n",
       "    <tr>\n",
       "      <th>...</th>\n",
       "      <td>...</td>\n",
       "      <td>...</td>\n",
       "    </tr>\n",
       "    <tr>\n",
       "      <th>2571</th>\n",
       "      <td>1</td>\n",
       "      <td>nyc</td>\n",
       "    </tr>\n",
       "    <tr>\n",
       "      <th>2572</th>\n",
       "      <td>1</td>\n",
       "      <td>Bad</td>\n",
       "    </tr>\n",
       "    <tr>\n",
       "      <th>2573</th>\n",
       "      <td>1</td>\n",
       "      <td>Nice</td>\n",
       "    </tr>\n",
       "    <tr>\n",
       "      <th>2574</th>\n",
       "      <td>1</td>\n",
       "      <td>Bad</td>\n",
       "    </tr>\n",
       "    <tr>\n",
       "      <th>2575</th>\n",
       "      <td>1</td>\n",
       "      <td>Bad Product</td>\n",
       "    </tr>\n",
       "  </tbody>\n",
       "</table>\n",
       "<p>2576 rows × 2 columns</p>\n",
       "</div>"
      ],
      "text/plain": [
       "     Ratings                                             Review\n",
       "0          4  The product is awesome, controls are good and ...\n",
       "1          5  Perfectly fit in your ear. I've never found so...\n",
       "2          4  (Please note this review is based on the prici...\n",
       "3          5  Great sound quality and good bass. It is notic...\n",
       "4          5  I have purchased Bluetooth Wireless Earphones ...\n",
       "...      ...                                                ...\n",
       "2571       1                                                nyc\n",
       "2572       1                                                Bad\n",
       "2573       1                                               Nice\n",
       "2574       1                                                Bad\n",
       "2575       1                                        Bad Product\n",
       "\n",
       "[2576 rows x 2 columns]"
      ]
     },
     "execution_count": 52,
     "metadata": {},
     "output_type": "execute_result"
    }
   ],
   "source": [
    "# make dataframe\n",
    "df5 = pd.DataFrame({})\n",
    "df5['Ratings'] = ratings\n",
    "df5['Review'] = reviews\n",
    "df5"
   ]
  },
  {
   "cell_type": "code",
   "execution_count": 53,
   "id": "034d8af2",
   "metadata": {},
   "outputs": [],
   "source": [
    "driver.close()"
   ]
  },
  {
   "cell_type": "code",
   "execution_count": 54,
   "id": "bab473fc",
   "metadata": {},
   "outputs": [],
   "source": [
    "driver = webdriver.Chrome(r\"C:\\Users\\shaha\\Downloads\\chromedriver_win32 (2)/chromedriver.exe\")\n",
    "driver.get(\"https://www.myntra.com/reviews/13471916\")\n",
    "time.sleep(2)"
   ]
  },
  {
   "cell_type": "code",
   "execution_count": 55,
   "id": "e7adadbc",
   "metadata": {},
   "outputs": [],
   "source": [
    "# scroll down page till last\n",
    "\n",
    "SCROLL_PAUSE_TIME = 1\n",
    "\n",
    "# Get scroll height \n",
    "last_height = driver.execute_script(\"return document.body.scrollHeight\")"
   ]
  },
  {
   "cell_type": "code",
   "execution_count": 56,
   "id": "a697fd74",
   "metadata": {},
   "outputs": [],
   "source": [
    "while True: \n",
    "    # Scroll down to bottom\n",
    "    driver.execute_script(\"window.scrollTo(0, document.body.scrollHeight);\")\n",
    "\n",
    "    # Wait to load page \n",
    "\n",
    "    time.sleep(SCROLL_PAUSE_TIME)\n",
    "\n",
    "    # Calculate new scroll height and compare with last scroll height\n",
    "\n",
    "    new_height = driver.execute_script(\"return document.body.scrollHeight\")\n",
    "\n",
    "    if new_height == last_height:\n",
    "\n",
    "        break\n",
    "\n",
    "    last_height = new_height"
   ]
  },
  {
   "cell_type": "code",
   "execution_count": 57,
   "id": "e2228891",
   "metadata": {},
   "outputs": [],
   "source": [
    "# create empty list\n",
    "ratings = []\n",
    "reviews = []"
   ]
  },
  {
   "cell_type": "code",
   "execution_count": 58,
   "id": "81be0ce7",
   "metadata": {},
   "outputs": [],
   "source": [
    "rating_ = driver.find_elements_by_xpath(\"//*[@id='detailedReviewsContainer']/div/div[1]/div[1]/span\")    \n",
    "review_ = driver.find_elements_by_xpath(\"//*[@id='detailedReviewsContainer']/div/div[1]/div[2]\")\n",
    "\n",
    "for i in rating_:\n",
    "    ratings.append(i.text)\n",
    "for k in review_:\n",
    "    reviews.append(k.text)"
   ]
  },
  {
   "cell_type": "code",
   "execution_count": 59,
   "id": "7d1c69f1",
   "metadata": {},
   "outputs": [
    {
     "name": "stdout",
     "output_type": "stream",
     "text": [
      "2208\n",
      "2208\n"
     ]
    }
   ],
   "source": [
    "print(len(ratings))\n",
    "print(len(reviews))"
   ]
  },
  {
   "cell_type": "code",
   "execution_count": 60,
   "id": "cfd56430",
   "metadata": {},
   "outputs": [
    {
     "data": {
      "text/html": [
       "<div>\n",
       "<style scoped>\n",
       "    .dataframe tbody tr th:only-of-type {\n",
       "        vertical-align: middle;\n",
       "    }\n",
       "\n",
       "    .dataframe tbody tr th {\n",
       "        vertical-align: top;\n",
       "    }\n",
       "\n",
       "    .dataframe thead th {\n",
       "        text-align: right;\n",
       "    }\n",
       "</style>\n",
       "<table border=\"1\" class=\"dataframe\">\n",
       "  <thead>\n",
       "    <tr style=\"text-align: right;\">\n",
       "      <th></th>\n",
       "      <th>Ratings</th>\n",
       "      <th>Review</th>\n",
       "    </tr>\n",
       "  </thead>\n",
       "  <tbody>\n",
       "    <tr>\n",
       "      <th>0</th>\n",
       "      <td>5</td>\n",
       "      <td>I have been using this for a month now. This i...</td>\n",
       "    </tr>\n",
       "    <tr>\n",
       "      <th>1</th>\n",
       "      <td>5</td>\n",
       "      <td>Just bought the phone. Pairing was easy Qualit...</td>\n",
       "    </tr>\n",
       "    <tr>\n",
       "      <th>2</th>\n",
       "      <td>4</td>\n",
       "      <td>This is a nice watch I really liked it.</td>\n",
       "    </tr>\n",
       "    <tr>\n",
       "      <th>3</th>\n",
       "      <td>4</td>\n",
       "      <td>First of all... Good speedy delivery by Myntra...</td>\n",
       "    </tr>\n",
       "    <tr>\n",
       "      <th>4</th>\n",
       "      <td>4</td>\n",
       "      <td>Really loved this watch.Nice n comfortable to ...</td>\n",
       "    </tr>\n",
       "    <tr>\n",
       "      <th>...</th>\n",
       "      <td>...</td>\n",
       "      <td>...</td>\n",
       "    </tr>\n",
       "    <tr>\n",
       "      <th>2203</th>\n",
       "      <td>1</td>\n",
       "      <td>Damaged product</td>\n",
       "    </tr>\n",
       "    <tr>\n",
       "      <th>2204</th>\n",
       "      <td>2</td>\n",
       "      <td>Not working</td>\n",
       "    </tr>\n",
       "    <tr>\n",
       "      <th>2205</th>\n",
       "      <td>2</td>\n",
       "      <td>Quality of this product is not satisfactory.</td>\n",
       "    </tr>\n",
       "    <tr>\n",
       "      <th>2206</th>\n",
       "      <td>1</td>\n",
       "      <td>Product not working</td>\n",
       "    </tr>\n",
       "    <tr>\n",
       "      <th>2207</th>\n",
       "      <td>1</td>\n",
       "      <td>Display small</td>\n",
       "    </tr>\n",
       "  </tbody>\n",
       "</table>\n",
       "<p>2208 rows × 2 columns</p>\n",
       "</div>"
      ],
      "text/plain": [
       "     Ratings                                             Review\n",
       "0          5  I have been using this for a month now. This i...\n",
       "1          5  Just bought the phone. Pairing was easy Qualit...\n",
       "2          4            This is a nice watch I really liked it.\n",
       "3          4  First of all... Good speedy delivery by Myntra...\n",
       "4          4  Really loved this watch.Nice n comfortable to ...\n",
       "...      ...                                                ...\n",
       "2203       1                                    Damaged product\n",
       "2204       2                                        Not working\n",
       "2205       2       Quality of this product is not satisfactory.\n",
       "2206       1                                Product not working\n",
       "2207       1                                      Display small\n",
       "\n",
       "[2208 rows x 2 columns]"
      ]
     },
     "execution_count": 60,
     "metadata": {},
     "output_type": "execute_result"
    }
   ],
   "source": [
    "# make dataframe\n",
    "df6 = pd.DataFrame({})\n",
    "df6['Ratings'] = ratings\n",
    "df6['Review'] = reviews\n",
    "df6"
   ]
  },
  {
   "cell_type": "code",
   "execution_count": 61,
   "id": "4d8d74c8",
   "metadata": {},
   "outputs": [],
   "source": [
    "driver.close()"
   ]
  },
  {
   "cell_type": "code",
   "execution_count": 62,
   "id": "1a4154b2",
   "metadata": {},
   "outputs": [],
   "source": [
    "driver = webdriver.Chrome(r\"C:\\Users\\shaha\\Downloads\\chromedriver_win32 (2)/chromedriver.exe\")\n",
    "driver.get(\"https://www.amazon.in/Canon-1500D-Digital-Camera-S18-55/product-reviews/B07BS4TJ43/ref=cm_cr_dp_d_show_all_btm?ie=UTF8&reviewerType=all_reviews\")\n",
    "time.sleep(2)"
   ]
  },
  {
   "cell_type": "code",
   "execution_count": 63,
   "id": "2e831ddc",
   "metadata": {},
   "outputs": [],
   "source": [
    "# click on next page\n",
    "driver.find_element_by_xpath(\"//*[@id='cm_cr-pagination_bar']/ul/li[2]/a\").click()"
   ]
  },
  {
   "cell_type": "code",
   "execution_count": 64,
   "id": "33e57989",
   "metadata": {},
   "outputs": [
    {
     "data": {
      "text/plain": [
       "'https://www.amazon.in/Canon-1500D-Digital-Camera-S18-55/product-reviews/B07BS4TJ43/ref=cm_cr_arp_d_paging_btm_next_2?ie=UTF8&reviewerType=all_reviews&pageNumber=2'"
      ]
     },
     "execution_count": 64,
     "metadata": {},
     "output_type": "execute_result"
    }
   ],
   "source": [
    "# extract page no.-2 url for apply loop of all pages\n",
    "driver.current_url"
   ]
  },
  {
   "cell_type": "code",
   "execution_count": 65,
   "id": "8e30104c",
   "metadata": {},
   "outputs": [],
   "source": [
    "# create empty list\n",
    "ratings = []\n",
    "reviews = []"
   ]
  },
  {
   "cell_type": "code",
   "execution_count": 66,
   "id": "0a689d07",
   "metadata": {},
   "outputs": [],
   "source": [
    "for page in range(1, 301, 1):\n",
    "    # below url take from the above code result\n",
    "    page_url = \"https://www.amazon.in/Canon-1500D-Digital-Camera-S18-55/product-reviews/B07BS4TJ43/ref=cm_cr_getr_d_paging_btm_next_2?ie=UTF8&reviewerType=all_reviews&pageNumber=\" + str(page)\n",
    "    driver.get(page_url)\n",
    "    \n",
    "    soup= BeautifulSoup(driver.page_source, 'html.parser')\n",
    "    \n",
    "    rating_ = soup.find_all('i',attrs={'data-hook':'review-star-rating'})    \n",
    "    review_ = soup.find_all('span',attrs={'class':'a-size-base review-text review-text-content'})    \n",
    "                            \n",
    "    \n",
    "    for i in rating_:\n",
    "        ratings.append(i.text.replace(\" out of 5 stars\",\"\"))\n",
    "        \n",
    "    for k in review_:\n",
    "        reviews.append(k.text)"
   ]
  },
  {
   "cell_type": "code",
   "execution_count": 67,
   "id": "13d32bd7",
   "metadata": {},
   "outputs": [
    {
     "name": "stdout",
     "output_type": "stream",
     "text": [
      "3000\n",
      "3000\n"
     ]
    }
   ],
   "source": [
    "print(len(ratings))\n",
    "print(len(reviews))"
   ]
  },
  {
   "cell_type": "code",
   "execution_count": 68,
   "id": "17219f8d",
   "metadata": {},
   "outputs": [
    {
     "data": {
      "text/html": [
       "<div>\n",
       "<style scoped>\n",
       "    .dataframe tbody tr th:only-of-type {\n",
       "        vertical-align: middle;\n",
       "    }\n",
       "\n",
       "    .dataframe tbody tr th {\n",
       "        vertical-align: top;\n",
       "    }\n",
       "\n",
       "    .dataframe thead th {\n",
       "        text-align: right;\n",
       "    }\n",
       "</style>\n",
       "<table border=\"1\" class=\"dataframe\">\n",
       "  <thead>\n",
       "    <tr style=\"text-align: right;\">\n",
       "      <th></th>\n",
       "      <th>Ratings</th>\n",
       "      <th>Review</th>\n",
       "    </tr>\n",
       "  </thead>\n",
       "  <tbody>\n",
       "    <tr>\n",
       "      <th>0</th>\n",
       "      <td>2.0</td>\n",
       "      <td>\\nOk the DSLR Giant Canon have launched 1 more...</td>\n",
       "    </tr>\n",
       "    <tr>\n",
       "      <th>1</th>\n",
       "      <td>5.0</td>\n",
       "      <td>\\nGood camera for beginners.\\n</td>\n",
       "    </tr>\n",
       "    <tr>\n",
       "      <th>2</th>\n",
       "      <td>5.0</td>\n",
       "      <td>\\nGreat camera. Perfect product for young budd...</td>\n",
       "    </tr>\n",
       "    <tr>\n",
       "      <th>3</th>\n",
       "      <td>5.0</td>\n",
       "      <td>\\nReally impressed with Amazon surprise for de...</td>\n",
       "    </tr>\n",
       "    <tr>\n",
       "      <th>4</th>\n",
       "      <td>1.0</td>\n",
       "      <td>\\nYou are on your own if you buy this product ...</td>\n",
       "    </tr>\n",
       "    <tr>\n",
       "      <th>...</th>\n",
       "      <td>...</td>\n",
       "      <td>...</td>\n",
       "    </tr>\n",
       "    <tr>\n",
       "      <th>2995</th>\n",
       "      <td>5.0</td>\n",
       "      <td>\\nVery good SLR camera ,easy to handle and goo...</td>\n",
       "    </tr>\n",
       "    <tr>\n",
       "      <th>2996</th>\n",
       "      <td>5.0</td>\n",
       "      <td>\\nA great camera for beginners.Has all the fun...</td>\n",
       "    </tr>\n",
       "    <tr>\n",
       "      <th>2997</th>\n",
       "      <td>5.0</td>\n",
       "      <td>\\nI'm totally happy with this camera, i got it...</td>\n",
       "    </tr>\n",
       "    <tr>\n",
       "      <th>2998</th>\n",
       "      <td>4.0</td>\n",
       "      <td>\\nCamera bag with product is not of good quali...</td>\n",
       "    </tr>\n",
       "    <tr>\n",
       "      <th>2999</th>\n",
       "      <td>5.0</td>\n",
       "      <td>\\nGot it in 17,500/- in great india sale.Very ...</td>\n",
       "    </tr>\n",
       "  </tbody>\n",
       "</table>\n",
       "<p>3000 rows × 2 columns</p>\n",
       "</div>"
      ],
      "text/plain": [
       "     Ratings                                             Review\n",
       "0        2.0  \\nOk the DSLR Giant Canon have launched 1 more...\n",
       "1        5.0                     \\nGood camera for beginners.\\n\n",
       "2        5.0  \\nGreat camera. Perfect product for young budd...\n",
       "3        5.0  \\nReally impressed with Amazon surprise for de...\n",
       "4        1.0  \\nYou are on your own if you buy this product ...\n",
       "...      ...                                                ...\n",
       "2995     5.0  \\nVery good SLR camera ,easy to handle and goo...\n",
       "2996     5.0  \\nA great camera for beginners.Has all the fun...\n",
       "2997     5.0  \\nI'm totally happy with this camera, i got it...\n",
       "2998     4.0  \\nCamera bag with product is not of good quali...\n",
       "2999     5.0  \\nGot it in 17,500/- in great india sale.Very ...\n",
       "\n",
       "[3000 rows x 2 columns]"
      ]
     },
     "execution_count": 68,
     "metadata": {},
     "output_type": "execute_result"
    }
   ],
   "source": [
    "# make dataframe\n",
    "df7 = pd.DataFrame({})\n",
    "df7['Ratings'] = ratings\n",
    "df7['Review'] = reviews\n",
    "df7"
   ]
  },
  {
   "cell_type": "code",
   "execution_count": 69,
   "id": "c60af748",
   "metadata": {},
   "outputs": [],
   "source": [
    "driver.close()"
   ]
  },
  {
   "cell_type": "code",
   "execution_count": 70,
   "id": "4ec15e42",
   "metadata": {},
   "outputs": [],
   "source": [
    "driver = webdriver.Chrome(r\"C:\\Users\\shaha\\Downloads\\chromedriver_win32 (2)/chromedriver.exe\")\n",
    "driver.get(\"https://www.amazon.in/Redmi-inches-Ready-L32M6-RA-Android/product-reviews/B09F9YQQ7B/ref=cm_cr_dp_d_show_all_btm?ie=UTF8&reviewerType=all_reviews\")\n",
    "time.sleep(2)"
   ]
  },
  {
   "cell_type": "code",
   "execution_count": 71,
   "id": "e5b0b1f4",
   "metadata": {},
   "outputs": [],
   "source": [
    "# click on next page\n",
    "driver.find_element_by_xpath(\"//*[@id='cm_cr-pagination_bar']/ul/li[2]/a\").click() "
   ]
  },
  {
   "cell_type": "code",
   "execution_count": 72,
   "id": "ddea8853",
   "metadata": {},
   "outputs": [
    {
     "data": {
      "text/plain": [
       "'https://www.amazon.in/Redmi-inches-Ready-L32M6-RA-Android/product-reviews/B09F9YQQ7B/ref=cm_cr_arp_d_paging_btm_next_2?ie=UTF8&reviewerType=all_reviews&pageNumber=2'"
      ]
     },
     "execution_count": 72,
     "metadata": {},
     "output_type": "execute_result"
    }
   ],
   "source": [
    "# extract page no.-2 url for apply loop of all pages\n",
    "driver.current_url"
   ]
  },
  {
   "cell_type": "code",
   "execution_count": 73,
   "id": "6534d7f2",
   "metadata": {},
   "outputs": [],
   "source": [
    "# create empty list\n",
    "ratings = []\n",
    "reviews = []"
   ]
  },
  {
   "cell_type": "code",
   "execution_count": 74,
   "id": "73304c69",
   "metadata": {},
   "outputs": [],
   "source": [
    "for page in range(1, 301, 1):\n",
    "    # below url take from the above code result\n",
    "    page_url = \"https://www.amazon.in/Redmi-inches-Ready-L32M6-RA-Android/product-reviews/B09F9YQQ7B/ref=cm_cr_arp_d_paging_btm_next_2?ie=UTF8&reviewerType=all_reviews&pageNumber=\" + str(page)\n",
    "    driver.get(page_url)\n",
    "    \n",
    "    soup= BeautifulSoup(driver.page_source, 'html.parser')\n",
    "    \n",
    "    rating_ = soup.find_all('i',attrs={'data-hook':'review-star-rating'})    \n",
    "    review_ = soup.find_all('span',attrs={'class':'a-size-base review-text review-text-content'})    \n",
    "                            \n",
    "    \n",
    "    for i in rating_:\n",
    "        ratings.append(i.text.replace(\" out of 5 stars\",\"\"))\n",
    "        \n",
    "    for k in review_:\n",
    "        reviews.append(k.text)"
   ]
  },
  {
   "cell_type": "code",
   "execution_count": 75,
   "id": "c7dd5d60",
   "metadata": {},
   "outputs": [
    {
     "name": "stdout",
     "output_type": "stream",
     "text": [
      "3000\n",
      "3000\n"
     ]
    }
   ],
   "source": [
    "print(len(ratings))\n",
    "print(len(reviews))"
   ]
  },
  {
   "cell_type": "code",
   "execution_count": 76,
   "id": "8923be86",
   "metadata": {},
   "outputs": [
    {
     "data": {
      "text/html": [
       "<div>\n",
       "<style scoped>\n",
       "    .dataframe tbody tr th:only-of-type {\n",
       "        vertical-align: middle;\n",
       "    }\n",
       "\n",
       "    .dataframe tbody tr th {\n",
       "        vertical-align: top;\n",
       "    }\n",
       "\n",
       "    .dataframe thead th {\n",
       "        text-align: right;\n",
       "    }\n",
       "</style>\n",
       "<table border=\"1\" class=\"dataframe\">\n",
       "  <thead>\n",
       "    <tr style=\"text-align: right;\">\n",
       "      <th></th>\n",
       "      <th>Ratings</th>\n",
       "      <th>Review</th>\n",
       "    </tr>\n",
       "  </thead>\n",
       "  <tbody>\n",
       "    <tr>\n",
       "      <th>0</th>\n",
       "      <td>5.0</td>\n",
       "      <td>\\n\\nVideo Player is loading.Play VideoPlayMute...</td>\n",
       "    </tr>\n",
       "    <tr>\n",
       "      <th>1</th>\n",
       "      <td>5.0</td>\n",
       "      <td>\\nWorth for money product.I am writing this re...</td>\n",
       "    </tr>\n",
       "    <tr>\n",
       "      <th>2</th>\n",
       "      <td>1.0</td>\n",
       "      <td>\\nPathetic product  Never buy it.Picture is no...</td>\n",
       "    </tr>\n",
       "    <tr>\n",
       "      <th>3</th>\n",
       "      <td>1.0</td>\n",
       "      <td>\\n\\n\\n\\n\\n                    The media could ...</td>\n",
       "    </tr>\n",
       "    <tr>\n",
       "      <th>4</th>\n",
       "      <td>3.0</td>\n",
       "      <td>\\nHello, only buy it if you have never used So...</td>\n",
       "    </tr>\n",
       "    <tr>\n",
       "      <th>...</th>\n",
       "      <td>...</td>\n",
       "      <td>...</td>\n",
       "    </tr>\n",
       "    <tr>\n",
       "      <th>2995</th>\n",
       "      <td>5.0</td>\n",
       "      <td>\\nSuper\\n</td>\n",
       "    </tr>\n",
       "    <tr>\n",
       "      <th>2996</th>\n",
       "      <td>5.0</td>\n",
       "      <td>\\nBest TV\\n</td>\n",
       "    </tr>\n",
       "    <tr>\n",
       "      <th>2997</th>\n",
       "      <td>5.0</td>\n",
       "      <td>\\nOk value for money\\n</td>\n",
       "    </tr>\n",
       "    <tr>\n",
       "      <th>2998</th>\n",
       "      <td>5.0</td>\n",
       "      <td>\\nAwesome product\\n</td>\n",
       "    </tr>\n",
       "    <tr>\n",
       "      <th>2999</th>\n",
       "      <td>5.0</td>\n",
       "      <td></td>\n",
       "    </tr>\n",
       "  </tbody>\n",
       "</table>\n",
       "<p>3000 rows × 2 columns</p>\n",
       "</div>"
      ],
      "text/plain": [
       "     Ratings                                             Review\n",
       "0        5.0  \\n\\nVideo Player is loading.Play VideoPlayMute...\n",
       "1        5.0  \\nWorth for money product.I am writing this re...\n",
       "2        1.0  \\nPathetic product  Never buy it.Picture is no...\n",
       "3        1.0  \\n\\n\\n\\n\\n                    The media could ...\n",
       "4        3.0  \\nHello, only buy it if you have never used So...\n",
       "...      ...                                                ...\n",
       "2995     5.0                                          \\nSuper\\n\n",
       "2996     5.0                                        \\nBest TV\\n\n",
       "2997     5.0                             \\nOk value for money\\n\n",
       "2998     5.0                                \\nAwesome product\\n\n",
       "2999     5.0                                                   \n",
       "\n",
       "[3000 rows x 2 columns]"
      ]
     },
     "execution_count": 76,
     "metadata": {},
     "output_type": "execute_result"
    }
   ],
   "source": [
    "# make dataframe\n",
    "df8 = pd.DataFrame({})\n",
    "df8['Ratings'] = ratings\n",
    "df8['Review'] = reviews\n",
    "df8"
   ]
  },
  {
   "cell_type": "code",
   "execution_count": 77,
   "id": "df6b2937",
   "metadata": {},
   "outputs": [],
   "source": [
    "driver = webdriver.Chrome(r\"C:\\Users\\shaha\\Downloads\\chromedriver_win32 (2)/chromedriver.exe\")\n",
    "driver.get(\"https://www.amazon.in/Canon-MG2577s-Inkjet-Colour-Printer/product-reviews/B01EJ5MM5M/ref=cm_cr_dp_d_show_all_btm?ie=UTF8&reviewerType=all_reviews\")\n",
    "time.sleep(2)"
   ]
  },
  {
   "cell_type": "code",
   "execution_count": 78,
   "id": "63d54ec7",
   "metadata": {},
   "outputs": [],
   "source": [
    "# click on next page\n",
    "driver.find_element_by_xpath(\"//*[@id='cm_cr-pagination_bar']/ul/li[2]/a\").click() "
   ]
  },
  {
   "cell_type": "code",
   "execution_count": 79,
   "id": "c7a1de28",
   "metadata": {},
   "outputs": [
    {
     "data": {
      "text/plain": [
       "'https://www.amazon.in/Canon-MG2577s-Inkjet-Colour-Printer/product-reviews/B01EJ5MM5M/ref=cm_cr_arp_d_paging_btm_next_2?ie=UTF8&reviewerType=all_reviews&pageNumber=2'"
      ]
     },
     "execution_count": 79,
     "metadata": {},
     "output_type": "execute_result"
    }
   ],
   "source": [
    "# extract page no.-2 url for apply loop of all pages\n",
    "driver.current_url"
   ]
  },
  {
   "cell_type": "code",
   "execution_count": 80,
   "id": "b9e5418b",
   "metadata": {},
   "outputs": [],
   "source": [
    "# create empty list\n",
    "ratings = []\n",
    "reviews = []"
   ]
  },
  {
   "cell_type": "code",
   "execution_count": 81,
   "id": "e924e4e1",
   "metadata": {},
   "outputs": [],
   "source": [
    "for page in range(1, 301, 1):\n",
    "    # below url take from the above code result\n",
    "    page_url = \"https://www.amazon.in/Canon-MG2577s-Inkjet-Colour-Printer/product-reviews/B01EJ5MM5M/ref=cm_cr_arp_d_paging_btm_next_2?ie=UTF8&reviewerType=all_reviews&pageNumber=\" + str(page)\n",
    "    driver.get(page_url)\n",
    "    \n",
    "    soup= BeautifulSoup(driver.page_source, 'html.parser')\n",
    "    \n",
    "    rating_ = soup.find_all('i',attrs={'data-hook':'review-star-rating'})    \n",
    "    review_ = soup.find_all('span',attrs={'class':'a-size-base review-text review-text-content'})    \n",
    "                            \n",
    "    \n",
    "    for i in rating_:\n",
    "        ratings.append(i.text.replace(\" out of 5 stars\",\"\"))\n",
    "        \n",
    "    for k in review_:\n",
    "        reviews.append(k.text)"
   ]
  },
  {
   "cell_type": "code",
   "execution_count": 82,
   "id": "2e6f5c1a",
   "metadata": {},
   "outputs": [
    {
     "name": "stdout",
     "output_type": "stream",
     "text": [
      "3000\n",
      "3000\n"
     ]
    }
   ],
   "source": [
    "print(len(ratings))\n",
    "print(len(reviews))"
   ]
  },
  {
   "cell_type": "code",
   "execution_count": 83,
   "id": "010e4744",
   "metadata": {},
   "outputs": [
    {
     "data": {
      "text/html": [
       "<div>\n",
       "<style scoped>\n",
       "    .dataframe tbody tr th:only-of-type {\n",
       "        vertical-align: middle;\n",
       "    }\n",
       "\n",
       "    .dataframe tbody tr th {\n",
       "        vertical-align: top;\n",
       "    }\n",
       "\n",
       "    .dataframe thead th {\n",
       "        text-align: right;\n",
       "    }\n",
       "</style>\n",
       "<table border=\"1\" class=\"dataframe\">\n",
       "  <thead>\n",
       "    <tr style=\"text-align: right;\">\n",
       "      <th></th>\n",
       "      <th>Ratings</th>\n",
       "      <th>Review</th>\n",
       "    </tr>\n",
       "  </thead>\n",
       "  <tbody>\n",
       "    <tr>\n",
       "      <th>0</th>\n",
       "      <td>1.0</td>\n",
       "      <td>\\nits only  print 3 to 4 page properly then st...</td>\n",
       "    </tr>\n",
       "    <tr>\n",
       "      <th>1</th>\n",
       "      <td>1.0</td>\n",
       "      <td>\\nPrinter came damaged,While installing it gav...</td>\n",
       "    </tr>\n",
       "    <tr>\n",
       "      <th>2</th>\n",
       "      <td>3.0</td>\n",
       "      <td>\\nIt is good only for plain paper printing. If...</td>\n",
       "    </tr>\n",
       "    <tr>\n",
       "      <th>3</th>\n",
       "      <td>3.0</td>\n",
       "      <td>\\nPrints 500 rs notes properly but 2000 rs not...</td>\n",
       "    </tr>\n",
       "    <tr>\n",
       "      <th>4</th>\n",
       "      <td>1.0</td>\n",
       "      <td>\\nGot a defective piece. Very bad packaging. A...</td>\n",
       "    </tr>\n",
       "    <tr>\n",
       "      <th>...</th>\n",
       "      <td>...</td>\n",
       "      <td>...</td>\n",
       "    </tr>\n",
       "    <tr>\n",
       "      <th>2995</th>\n",
       "      <td>5.0</td>\n",
       "      <td>\\nBest Quality\\n</td>\n",
       "    </tr>\n",
       "    <tr>\n",
       "      <th>2996</th>\n",
       "      <td>5.0</td>\n",
       "      <td>\\nNice Product!\\n</td>\n",
       "    </tr>\n",
       "    <tr>\n",
       "      <th>2997</th>\n",
       "      <td>1.0</td>\n",
       "      <td>\\nWORST BUY EVER\\n</td>\n",
       "    </tr>\n",
       "    <tr>\n",
       "      <th>2998</th>\n",
       "      <td>4.0</td>\n",
       "      <td>\\nThanks products\\n</td>\n",
       "    </tr>\n",
       "    <tr>\n",
       "      <th>2999</th>\n",
       "      <td>1.0</td>\n",
       "      <td>\\nWaste\\n</td>\n",
       "    </tr>\n",
       "  </tbody>\n",
       "</table>\n",
       "<p>3000 rows × 2 columns</p>\n",
       "</div>"
      ],
      "text/plain": [
       "     Ratings                                             Review\n",
       "0        1.0  \\nits only  print 3 to 4 page properly then st...\n",
       "1        1.0  \\nPrinter came damaged,While installing it gav...\n",
       "2        3.0  \\nIt is good only for plain paper printing. If...\n",
       "3        3.0  \\nPrints 500 rs notes properly but 2000 rs not...\n",
       "4        1.0  \\nGot a defective piece. Very bad packaging. A...\n",
       "...      ...                                                ...\n",
       "2995     5.0                                   \\nBest Quality\\n\n",
       "2996     5.0                                  \\nNice Product!\\n\n",
       "2997     1.0                                 \\nWORST BUY EVER\\n\n",
       "2998     4.0                                \\nThanks products\\n\n",
       "2999     1.0                                          \\nWaste\\n\n",
       "\n",
       "[3000 rows x 2 columns]"
      ]
     },
     "execution_count": 83,
     "metadata": {},
     "output_type": "execute_result"
    }
   ],
   "source": [
    "# make dataframe\n",
    "df9 = pd.DataFrame({})\n",
    "df9['Ratings'] = ratings\n",
    "df9['Review'] = reviews\n",
    "df9"
   ]
  },
  {
   "cell_type": "code",
   "execution_count": 86,
   "id": "1c376686",
   "metadata": {},
   "outputs": [],
   "source": [
    "# merge all dataframes reviews and ratings\n",
    "df = pd.concat([df1,df2,df3,df4,df5,df6,df7,df8,df9], ignore_index=True)"
   ]
  },
  {
   "cell_type": "code",
   "execution_count": 87,
   "id": "c4c36b6a",
   "metadata": {},
   "outputs": [
    {
     "data": {
      "text/html": [
       "<div>\n",
       "<style scoped>\n",
       "    .dataframe tbody tr th:only-of-type {\n",
       "        vertical-align: middle;\n",
       "    }\n",
       "\n",
       "    .dataframe tbody tr th {\n",
       "        vertical-align: top;\n",
       "    }\n",
       "\n",
       "    .dataframe thead th {\n",
       "        text-align: right;\n",
       "    }\n",
       "</style>\n",
       "<table border=\"1\" class=\"dataframe\">\n",
       "  <thead>\n",
       "    <tr style=\"text-align: right;\">\n",
       "      <th></th>\n",
       "      <th>Ratings</th>\n",
       "      <th>Review</th>\n",
       "    </tr>\n",
       "  </thead>\n",
       "  <tbody>\n",
       "    <tr>\n",
       "      <th>0</th>\n",
       "      <td>5</td>\n",
       "      <td>This is the best laptop in this range.I reciev...</td>\n",
       "    </tr>\n",
       "    <tr>\n",
       "      <th>1</th>\n",
       "      <td>5</td>\n",
       "      <td>Good product as used of now.... Everything is ...</td>\n",
       "    </tr>\n",
       "    <tr>\n",
       "      <th>2</th>\n",
       "      <td>5</td>\n",
       "      <td>AWESOME LAPTOP. It supports many high spec gam...</td>\n",
       "    </tr>\n",
       "    <tr>\n",
       "      <th>3</th>\n",
       "      <td>4</td>\n",
       "      <td>For the peoples who R going to buy R they buye...</td>\n",
       "    </tr>\n",
       "    <tr>\n",
       "      <th>4</th>\n",
       "      <td>5</td>\n",
       "      <td>It's good gameing laptop in this price\\nDispla...</td>\n",
       "    </tr>\n",
       "    <tr>\n",
       "      <th>...</th>\n",
       "      <td>...</td>\n",
       "      <td>...</td>\n",
       "    </tr>\n",
       "    <tr>\n",
       "      <th>21083</th>\n",
       "      <td>5.0</td>\n",
       "      <td>\\nBest Quality\\n</td>\n",
       "    </tr>\n",
       "    <tr>\n",
       "      <th>21084</th>\n",
       "      <td>5.0</td>\n",
       "      <td>\\nNice Product!\\n</td>\n",
       "    </tr>\n",
       "    <tr>\n",
       "      <th>21085</th>\n",
       "      <td>1.0</td>\n",
       "      <td>\\nWORST BUY EVER\\n</td>\n",
       "    </tr>\n",
       "    <tr>\n",
       "      <th>21086</th>\n",
       "      <td>4.0</td>\n",
       "      <td>\\nThanks products\\n</td>\n",
       "    </tr>\n",
       "    <tr>\n",
       "      <th>21087</th>\n",
       "      <td>1.0</td>\n",
       "      <td>\\nWaste\\n</td>\n",
       "    </tr>\n",
       "  </tbody>\n",
       "</table>\n",
       "<p>21088 rows × 2 columns</p>\n",
       "</div>"
      ],
      "text/plain": [
       "      Ratings                                             Review\n",
       "0           5  This is the best laptop in this range.I reciev...\n",
       "1           5  Good product as used of now.... Everything is ...\n",
       "2           5  AWESOME LAPTOP. It supports many high spec gam...\n",
       "3           4  For the peoples who R going to buy R they buye...\n",
       "4           5  It's good gameing laptop in this price\\nDispla...\n",
       "...       ...                                                ...\n",
       "21083     5.0                                   \\nBest Quality\\n\n",
       "21084     5.0                                  \\nNice Product!\\n\n",
       "21085     1.0                                 \\nWORST BUY EVER\\n\n",
       "21086     4.0                                \\nThanks products\\n\n",
       "21087     1.0                                          \\nWaste\\n\n",
       "\n",
       "[21088 rows x 2 columns]"
      ]
     },
     "execution_count": 87,
     "metadata": {},
     "output_type": "execute_result"
    }
   ],
   "source": [
    "df"
   ]
  },
  {
   "cell_type": "code",
   "execution_count": 88,
   "id": "80a20210",
   "metadata": {},
   "outputs": [],
   "source": [
    "#Save data in csv format\n",
    "df.to_csv(\"Rating_Predicts.csv\")"
   ]
  },
  {
   "cell_type": "code",
   "execution_count": 89,
   "id": "f6835d2e",
   "metadata": {},
   "outputs": [],
   "source": [
    "#Save data in csv format\n",
    "df.to_excel(\"Rating_Predicts.xlsx\")"
   ]
  },
  {
   "cell_type": "code",
   "execution_count": null,
   "id": "c85e9b44",
   "metadata": {},
   "outputs": [],
   "source": []
  }
 ],
 "metadata": {
  "kernelspec": {
   "display_name": "Python 3",
   "language": "python",
   "name": "python3"
  },
  "language_info": {
   "codemirror_mode": {
    "name": "ipython",
    "version": 3
   },
   "file_extension": ".py",
   "mimetype": "text/x-python",
   "name": "python",
   "nbconvert_exporter": "python",
   "pygments_lexer": "ipython3",
   "version": "3.8.8"
  }
 },
 "nbformat": 4,
 "nbformat_minor": 5
}
